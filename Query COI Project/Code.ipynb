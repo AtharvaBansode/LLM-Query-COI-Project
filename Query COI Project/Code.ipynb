{
 "cells": [
  {
   "cell_type": "code",
   "execution_count": 1,
   "id": "42a946ec",
   "metadata": {},
   "outputs": [],
   "source": [
    "from PyPDF2 import PdfReader\n",
    "from langchain.text_splitter import RecursiveCharacterTextSplitter\n",
    "from langchain.embeddings.openai import OpenAIEmbeddings\n",
    "from langchain.vectorstores import FAISS"
   ]
  },
  {
   "cell_type": "code",
   "execution_count": 2,
   "id": "3115dfff",
   "metadata": {},
   "outputs": [],
   "source": [
    "pdf_reader = PdfReader(\"Constitution of India.pdf\")\n",
    "text = ''\n",
    "cnt = 0\n",
    "for page in pdf_reader.pages:\n",
    "    text = text + page.extract_text()\n",
    "    cnt+=1\n",
    "    if cnt>=50:\n",
    "        break"
   ]
  },
  {
   "cell_type": "code",
   "execution_count": 3,
   "id": "1fef50ff",
   "metadata": {},
   "outputs": [
    {
     "data": {
      "text/plain": [
       "83745"
      ]
     },
     "execution_count": 3,
     "metadata": {},
     "output_type": "execute_result"
    }
   ],
   "source": [
    "len(text)"
   ]
  },
  {
   "cell_type": "code",
   "execution_count": 4,
   "id": "b9c24abf",
   "metadata": {},
   "outputs": [
    {
     "name": "stdout",
     "output_type": "stream",
     "text": [
      " \n",
      " \n",
      " \n",
      " \n",
      " \n",
      " THE CONSTITUTION OF INDIA \n",
      "[As on       May , 2022] \n",
      "2022 \n",
      "  \n",
      " \n",
      "PREFACE \n",
      " \n",
      "This is the  fifth  pocket size edition of the Constitution of \n",
      "India in the diglot form. In this edition, the text of the \n",
      "Constitution of India has been brought up-to-date by \n",
      "incorporating therein all the amendments up to the Constitution \n",
      "(One Hundred and Fifth Amendment) Act, 2021. The foot notes \n",
      "below the text indicate the Constitution Amendment Acts by \n",
      "which such amendments have been made.  \n",
      "The Constitution (One Hundredth Amendment) Act, 2015 \n",
      "contai\n"
     ]
    }
   ],
   "source": [
    "print(text[:550])"
   ]
  },
  {
   "cell_type": "code",
   "execution_count": 5,
   "id": "0e658a9b",
   "metadata": {},
   "outputs": [],
   "source": [
    "text_splitter=RecursiveCharacterTextSplitter(chunk_size=1000,chunk_overlap=200,length_function=len)\n",
    "chunks=text_splitter.split_text(text=text)"
   ]
  },
  {
   "cell_type": "code",
   "execution_count": 21,
   "id": "9b2e3fe4",
   "metadata": {},
   "outputs": [
    {
     "data": {
      "text/plain": [
       "10"
      ]
     },
     "execution_count": 21,
     "metadata": {},
     "output_type": "execute_result"
    }
   ],
   "source": [
    "len(chunks[:10])"
   ]
  },
  {
   "cell_type": "code",
   "execution_count": 7,
   "id": "cb49d158",
   "metadata": {},
   "outputs": [
    {
     "name": "stdout",
     "output_type": "stream",
     "text": [
      "THE CONSTITUTION OF INDIA \n",
      "[As on       May , 2022] \n",
      "2022 \n",
      "  \n",
      " \n",
      "PREFACE \n",
      " \n",
      "This is the  fifth  pocket size edition of the Constitution of \n",
      "India in the diglot form. In this edition, the text of the \n",
      "Constitution of India has been brought up-to-date by \n",
      "incorporating therein all the amendments up to the Constitution \n",
      "(One Hundred and Fifth Amendment) Act, 2021. The foot notes \n",
      "below the text indicate the Constitution Amendment Acts by \n",
      "which such amendments have been made.  \n",
      "The Constitution (One Hundredth Amendment) Act, 2015 \n",
      "containing details of acquired and transferred territories \n",
      "between the Governments of India and Bangladesh has been \n",
      "provided in APPENDIX I. \n",
      "The Constitution (Application to Jammu and Kashmir) \n",
      "Order, 2019 and the declaration under article 370(3) of the \n",
      "Constitution have been provided respectively in Appendix II and \n",
      "Appendix III for reference. \n",
      " \n",
      " \n",
      "New Delhi;                                              Dr. Reeta Vasishta,\n"
     ]
    }
   ],
   "source": [
    "print(chunks[0])"
   ]
  },
  {
   "cell_type": "code",
   "execution_count": 22,
   "id": "ae416aec",
   "metadata": {},
   "outputs": [],
   "source": [
    "embeddings = OpenAIEmbeddings(openai_api_key='sk-proj-9tyJjScQdpXrdeB8AFB1T3BlbkFJ33h2Q56xZtb5xb3eYC2X')"
   ]
  },
  {
   "cell_type": "code",
   "execution_count": 24,
   "id": "d5ef9116",
   "metadata": {},
   "outputs": [],
   "source": [
    "VectorStore = FAISS.from_texts(chunks,embedding=embeddings)"
   ]
  },
  {
   "cell_type": "code",
   "execution_count": null,
   "id": "4d62da41",
   "metadata": {},
   "outputs": [],
   "source": []
  }
 ],
 "metadata": {
  "kernelspec": {
   "display_name": "Python [conda env:dsml_29_LLM_env]",
   "language": "python",
   "name": "conda-env-dsml_29_LLM_env-py"
  },
  "language_info": {
   "codemirror_mode": {
    "name": "ipython",
    "version": 3
   },
   "file_extension": ".py",
   "mimetype": "text/x-python",
   "name": "python",
   "nbconvert_exporter": "python",
   "pygments_lexer": "ipython3",
   "version": "3.11.3"
  }
 },
 "nbformat": 4,
 "nbformat_minor": 5
}
